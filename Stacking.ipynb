{
 "cells": [
  {
   "cell_type": "code",
   "execution_count": 129,
   "id": "75932fd2",
   "metadata": {},
   "outputs": [],
   "source": [
    "import numpy as np\n",
    "import pandas as pd\n",
    "from sklearn.model_selection import StratifiedKFold\n",
    "from sklearn.linear_model import LogisticRegression\n",
    "from sklearn.preprocessing import LabelEncoder\n",
    "from sklearn.metrics import roc_curve, roc_auc_score, auc, accuracy_score, recall_score, f1_score, confusion_matrix\n",
    "from sklearn.model_selection import train_test_split, cross_val_score\n",
    "from sklearn.ensemble import AdaBoostClassifier, RandomForestClassifier, ExtraTreesClassifier, GradientBoostingClassifier"
   ]
  },
  {
   "cell_type": "code",
   "execution_count": 130,
   "id": "f37c2c60",
   "metadata": {},
   "outputs": [],
   "source": [
    "import matplotlib.pyplot as plt\n",
    "%matplotlib inline\n",
    "import seaborn as sns"
   ]
  },
  {
   "cell_type": "code",
   "execution_count": 131,
   "id": "beb30fe6",
   "metadata": {},
   "outputs": [],
   "source": [
    "data = pd.read_csv(\"dly532_processed.csv\")\n",
    "data = data.sample(frac=1).reset_index(drop=True)"
   ]
  },
  {
   "cell_type": "code",
   "execution_count": 132,
   "id": "e7aefd9c",
   "metadata": {},
   "outputs": [],
   "source": [
    "y = data[\"Rainy\"]\n",
    "X = data.drop([\"Rainy\",\"date\"], axis=1).values"
   ]
  },
  {
   "cell_type": "code",
   "execution_count": 133,
   "id": "141f86f8",
   "metadata": {},
   "outputs": [],
   "source": [
    "#数据集进行划分,使用80%的训练数据来训练，20%的数据用来测试，\n",
    "def stacking(X,y):\n",
    "    dev_cutoff =int(len(y) * 4/5)\n",
    "    X_dev = X[:dev_cutoff]\n",
    "    y_dev = y[:dev_cutoff]\n",
    "    X_test = X[dev_cutoff:]\n",
    "    y_test = y[dev_cutoff:]\n",
    "    \n",
    "    n_trees = 10\n",
    "    n_folds = 5\n",
    "    \n",
    "    #第一层学习器\n",
    "    clfs = [\n",
    "        RandomForestClassifier(n_estimators = n_trees, criterion = 'gini'),\n",
    "        ExtraTreesClassifier(n_estimators = n_trees * 2, criterion = 'gini'),\n",
    "        GradientBoostingClassifier(n_estimators = n_trees),\n",
    "        AdaBoostClassifier(random_state=2)\n",
    "    ]\n",
    "        \n",
    "    # 数据交叉验证训练clf准备\n",
    "    skf = list(StratifiedKFold(n_splits=n_folds, shuffle=False, random_state=None).split(X_dev, y_dev))\n",
    "    \n",
    "    # 第二层的训练数据 blend_train\n",
    "    blend_train = np.zeros((X_dev.shape[0], len(clfs))) # Number of training data x Number of classifiers\n",
    "    blend_test = np.zeros((X_test.shape[0], len(clfs))) # Number of testing data x Number of classifiers\n",
    "    \n",
    "    print ('X_test.shape = %s' % (str(X_test.shape)))\n",
    "    print ('blend_train.shape = %s' % (str(blend_train.shape)))\n",
    "    print ('blend_test.shape = %s' % (str(blend_test.shape)))\n",
    "    \n",
    "    # 对每一个学习器进行训练，得到blend_train 和 blend_test\n",
    "    for j, clf in enumerate(clfs):\n",
    "        print ('Training classifier [%s]' % (j))\n",
    "        blend_test_j = np.zeros((X_test.shape[0], n_folds)) # Number of testing data x Number of folds , we will take the mean of the predictions later\n",
    "        roc_aou_fpr = []\n",
    "        roc_aou_tpr = []\n",
    "        for i, (train_index, test_index) in enumerate(skf):\n",
    "            print ('Fold [%s]' % (i))\n",
    "            \n",
    "            # This is the training and validation set\n",
    "            X_cv_train = X_dev[train_index]\n",
    "            y_cv_train = y_dev[train_index]\n",
    "            X_cv_test = X_dev[test_index]\n",
    "            y_cv_test = y_dev[test_index]\n",
    "            \n",
    "            clf.fit(X_cv_train, y_cv_train)\n",
    "            \n",
    "            # This output will be the basis for our blended classifier to train against,\n",
    "            # which is also the output of our classifiers\n",
    "            blend_train[test_index, j] = clf.predict(X_cv_test)\n",
    "            blend_test_j[:, i] = clf.predict(X_test)\n",
    "            prediction = clf.predict(X_test)\n",
    "            \n",
    "        # Take the mean of the predictions of the cross validation set\n",
    "        blend_test[:, j] = blend_test_j.mean(1)\n",
    "    \n",
    "     # 用 blend_train, y_dev 去训练第二层的学习器 LogisticRegression\n",
    "    bclf = LogisticRegression()\n",
    "    bclf.fit(blend_train, y_dev)\n",
    "    \n",
    "    # 基于训练的二级分类器，预测测试集 blend_test，并得到 score：\n",
    "    y_test_predict = bclf.predict(blend_test)\n",
    "    score = accuracy_score(y_test, y_test_predict)\n",
    "    return score, y_test, y_test_predict"
   ]
  },
  {
   "cell_type": "code",
   "execution_count": 134,
   "id": "da8cb50d",
   "metadata": {},
   "outputs": [],
   "source": [
    "def plot_confusion_matrix(matrix):\n",
    "    f = plt.figure(figsize=(3,3))\n",
    "    ax = f.add_subplot()\n",
    "    ax.matshow(matrix,cmap=plt.cm.Blues,alpha=0.3)\n",
    "    for i in range(matrix.shape[0]):\n",
    "        for j in range(matrix.shape[1]):\n",
    "            ax.text(x=j,y=i,s=matrix[i,j],va='center',ha='center')\n",
    "    plt.xlabel('predicted label')\n",
    "    plt.ylabel('true label')"
   ]
  },
  {
   "cell_type": "code",
   "execution_count": 135,
   "id": "6fd98a0a",
   "metadata": {},
   "outputs": [],
   "source": [
    "def roc_auc_plot():\n",
    "    f = plt.figure(figsize=(5,5))\n",
    "    ax = f.add_subplot()\n",
    "    roc_auc_score(y_test, y_test_predict)\n",
    "    fpr, tpr, _ = roc_curve(y_test, y_test_predict)\n",
    "    roc_auc = auc(fpr, tpr)\n",
    "    ax.plot(\n",
    "        fpr, tpr,\n",
    "        color = \"darkorange\",\n",
    "        label=\"ROC curve (area = %0.2f)\" % roc_auc,\n",
    "    )\n",
    "    \n",
    "    ax.plot([0, 1], [0, 1], \"k--\")\n",
    "    ax.set_xlim([0.0, 1.0])\n",
    "    ax.set_ylim([0.0, 1.05])\n",
    "    ax.set_xlabel(\"False Positive Rate\")\n",
    "    ax.set_ylabel(\"True Positive Rate\")\n",
    "    ax.set_title(\"Some extension of Receiver operating characteristic to multiclass\")\n",
    "    ax.legend(loc=\"lower right\")"
   ]
  },
  {
   "cell_type": "code",
   "execution_count": 136,
   "id": "6c68895a",
   "metadata": {},
   "outputs": [],
   "source": [
    "def appraise(y_test, y_test_predict):\n",
    "    accuracy = accuracy_score(y_test, y_test_predict)\n",
    "    recall = recall_score(y_test, y_test_predict, average='macro')\n",
    "    f1 = f1_score(y_test, y_test_predict,average='weighted')\n",
    "    confusion_mat = confusion_matrix(y_test, y_test_predict)\n",
    "    \n",
    "    print('Accuracy = %s' %(accuracy))\n",
    "    print('Recall Score = %s' %(recall))\n",
    "    print('F1 Score = %s' %(f1))\n",
    "    \n",
    "    plot_confusion_matrix(confusion_mat)\n",
    "    roc_auc_plot()"
   ]
  },
  {
   "cell_type": "code",
   "execution_count": 137,
   "id": "0bb83d68",
   "metadata": {},
   "outputs": [
    {
     "name": "stdout",
     "output_type": "stream",
     "text": [
      "Iteration [0]\n",
      "X_test.shape = (1522, 18)\n",
      "blend_train.shape = (6087, 4)\n",
      "blend_test.shape = (1522, 4)\n",
      "Training classifier [0]\n",
      "Fold [0]\n",
      "Fold [1]\n",
      "Fold [2]\n",
      "Fold [3]\n",
      "Fold [4]\n",
      "Training classifier [1]\n",
      "Fold [0]\n",
      "Fold [1]\n",
      "Fold [2]\n",
      "Fold [3]\n",
      "Fold [4]\n",
      "Training classifier [2]\n",
      "Fold [0]\n",
      "Fold [1]\n",
      "Fold [2]\n",
      "Fold [3]\n",
      "Fold [4]\n",
      "Training classifier [3]\n",
      "Fold [0]\n",
      "Fold [1]\n",
      "Fold [2]\n",
      "Fold [3]\n",
      "Fold [4]\n",
      "Best score = 0.835742444152431\n",
      "------------------------------\n",
      "Accuracy = 0.835742444152431\n",
      "Recall Score = 0.7993332051983382\n",
      "F1 Score = 0.8298689286451052\n"
     ]
    },
    {
     "data": {
      "image/png": "[encoded data removed]",
      "text/plain": [
       "<Figure size 216x216 with 1 Axes>"
      ]
     },
     "metadata": {
      "needs_background": "light"
     },
     "output_type": "display_data"
    },
    {
     "data": {
      "image/png": "[encoded data removed]",
      "text/plain": [
       "<Figure size 360x360 with 1 Axes>"
      ]
     },
     "metadata": {
      "needs_background": "light"
     },
     "output_type": "display_data"
    }
   ],
   "source": [
    "best_score = 0.0\n",
    "\n",
    "# run many times to get a better result, it's not quite stable.\n",
    "for i in range(1):\n",
    "    print ('Iteration [%s]' % (i))\n",
    "    score, y_test, y_test_predict = stacking(X, y)\n",
    "    best_score = max(best_score, score)\n",
    "\n",
    "print ('Best score = %s' % (best_score))\n",
    "print ('------------------------------')\n",
    "\n",
    "appraise(y_test, y_test_predict)\n",
    "plt.show()"
   ]
  },
  {
   "cell_type": "code",
   "execution_count": null,
   "id": "0506a677",
   "metadata": {},
   "outputs": [],
   "source": []
  }
 ],
 "metadata": {
  "kernelspec": {
   "display_name": "Python 3 (ipykernel)",
   "language": "python",
   "name": "python3"
  },
  "language_info": {
   "codemirror_mode": {
    "name": "ipython",
    "version": 3
   },
   "file_extension": ".py",
   "mimetype": "text/x-python",
   "name": "python",
   "nbconvert_exporter": "python",
   "pygments_lexer": "ipython3",
   "version": "3.7.10"
  }
 },
 "nbformat": 4,
 "nbformat_minor": 5
}
