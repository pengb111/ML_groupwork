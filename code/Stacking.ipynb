{
 "cells": [
  {
   "cell_type": "code",
   "execution_count": 1,
   "id": "75932fd2",
   "metadata": {},
   "outputs": [],
   "source": [
    "import numpy as np\n",
    "import pandas as pd\n",
    "from sklearn.neighbors import KNeighborsClassifier\n",
    "from sklearn.svm import SVC\n",
    "from sklearn.model_selection import StratifiedKFold\n",
    "from sklearn.linear_model import LogisticRegression\n",
    "from sklearn.preprocessing import LabelEncoder\n",
    "from sklearn.metrics import roc_curve, roc_auc_score, auc, accuracy_score, recall_score, f1_score, confusion_matrix\n",
    "from sklearn.model_selection import train_test_split, cross_val_score\n",
    "from sklearn.ensemble import AdaBoostClassifier, RandomForestClassifier, ExtraTreesClassifier, GradientBoostingClassifier"
   ]
  },
  {
   "cell_type": "code",
   "execution_count": 2,
   "id": "f37c2c60",
   "metadata": {},
   "outputs": [],
   "source": [
    "import matplotlib.pyplot as plt\n",
    "%matplotlib inline\n",
    "import seaborn as sns"
   ]
  },
  {
   "cell_type": "code",
   "execution_count": 3,
   "id": "beb30fe6",
   "metadata": {},
   "outputs": [],
   "source": [
    "df = pd.read_csv(\"datanew.csv\")\n",
    "df = df.sample(frac=1).reset_index(drop=True)"
   ]
  },
  {
   "cell_type": "code",
   "execution_count": 4,
   "id": "e7aefd9c",
   "metadata": {},
   "outputs": [],
   "source": [
    "y = df[\"Rainy\"]"
   ]
  },
  {
   "cell_type": "code",
   "execution_count": 5,
   "id": "42965f1a",
   "metadata": {},
   "outputs": [],
   "source": [
    "# some params\n",
    "X3 = df.iloc[:, 3]\n",
    "X4 = df.iloc[:, 4]\n",
    "X5 = df.iloc[:, 5]\n",
    "X6 = df.iloc[:, 6]\n",
    "X9 = df.iloc[:, 9] # hg\n",
    "X10 = df.iloc[:, 10]\n",
    "X11 = df.iloc[:, 11]\n",
    "X12 = df.iloc[:, 12]\n",
    "X13 = df.iloc[:, 13] # soil\n",
    "X14 = df.iloc[:, 14]\n",
    "X15 = df.iloc[:, 15]\n",
    "X18 = df.iloc[:, 18] # smd_pd\n",
    "X = np.column_stack((X3,X4,X5,X6,X9,X10,X11,X12,X13,X14,X15,X18))"
   ]
  },
  {
   "cell_type": "code",
   "execution_count": 6,
   "id": "c0b84bdb",
   "metadata": {},
   "outputs": [],
   "source": [
    "# all params\n",
    "# X1 = df.iloc[:, 1]\n",
    "# X2 = df.iloc[:, 2]\n",
    "# X3 = df.iloc[:, 3]\n",
    "# X4 = df.iloc[:, 4]\n",
    "# X5 = df.iloc[:, 5]\n",
    "# X6 = df.iloc[:, 6]\n",
    "# X7 = df.iloc[:, 7]\n",
    "# X8 = df.iloc[:, 8]\n",
    "# X9 = df.iloc[:, 9]\n",
    "# X10 = df.iloc[:, 10]\n",
    "# X11 = df.iloc[:, 11]\n",
    "# X12 = df.iloc[:, 12]\n",
    "# X13 = df.iloc[:, 13]\n",
    "# X14 = df.iloc[:, 14]\n",
    "# X15 = df.iloc[:, 15]\n",
    "# X16 = df.iloc[:, 16]\n",
    "# X17 = df.iloc[:, 17]\n",
    "# X18 = df.iloc[:, 18]\n",
    "# X = np.column_stack((X1, X2,X3,X4,X5,X6,X7,X8,X9,X10,X11,X12,X13,X14,X15,X16,X17,X18))"
   ]
  },
  {
   "cell_type": "code",
   "execution_count": 7,
   "id": "adc99ac9",
   "metadata": {},
   "outputs": [
    {
     "data": {
      "text/plain": [
       "Index(['igmin', 'gmin', 'cbl', 'wdsp', 'hg', 'sun', 'g_rad', 'soil', 'pe',\n",
       "       'evap', 'smd_pd'],\n",
       "      dtype='object')"
      ]
     },
     "execution_count": 7,
     "metadata": {},
     "output_type": "execute_result"
    }
   ],
   "source": [
    "df.iloc[:,[3,4,5,6,9,10,12,13,14,15,18]].columns"
   ]
  },
  {
   "cell_type": "code",
   "execution_count": 8,
   "id": "c65398a2",
   "metadata": {},
   "outputs": [],
   "source": [
    "dev_cutoff =int(len(y) * 7/10)\n",
    "X_dev = X[:dev_cutoff]\n",
    "y_dev = y[:dev_cutoff]\n",
    "X_test = X[dev_cutoff:]\n",
    "y_test = y[dev_cutoff:]"
   ]
  },
  {
   "cell_type": "code",
   "execution_count": 9,
   "id": "141f86f8",
   "metadata": {},
   "outputs": [],
   "source": [
    "#数据集进行划分,使用70%的训练数据来训练，30%的数据用来测试，\n",
    "def stacking(X,y):\n",
    "    n_trees = 10\n",
    "    n_folds = 5\n",
    "    \n",
    "    #第一层学习器\n",
    "    clfs = [\n",
    "#         RandomForestClassifier(n_estimators = n_trees, criterion = 'gini'),\n",
    "#         ExtraTreesClassifier(n_estimators = n_trees * 2, criterion = 'gini'),\n",
    "#         GradientBoostingClassifier(n_estimators = n_trees),\n",
    "#         AdaBoostClassifier(random_state=2)\n",
    "        KNeighborsClassifier(n_neighbors=69, weights='uniform'),\n",
    "        RandomForestClassifier(n_estimators=92, random_state=90),\n",
    "        SVC(kernel='linear', C=0.01, probability=True),\n",
    "    ]\n",
    "        \n",
    "    # 数据交叉验证训练clf准备\n",
    "    skf = list(StratifiedKFold(n_splits=n_folds, shuffle=False, random_state=None).split(X_dev, y_dev))\n",
    "    \n",
    "    # 第二层的训练数据 blend_train\n",
    "    blend_train = np.zeros((X_dev.shape[0], len(clfs))) # Number of training data x Number of classifiers\n",
    "    blend_test = np.zeros((X_test.shape[0], len(clfs))) # Number of testing data x Number of classifiers\n",
    "    \n",
    "    print ('X_test.shape = %s' % (str(X_test.shape)))\n",
    "    print ('blend_train.shape = %s' % (str(blend_train.shape)))\n",
    "    print ('blend_test.shape = %s' % (str(blend_test.shape)))\n",
    "    \n",
    "    # 对每一个学习器进行训练，得到blend_train 和 blend_test\n",
    "    for j, clf in enumerate(clfs):\n",
    "        print ('Training classifier [%s]' % (j))\n",
    "        blend_test_j = np.zeros((X_test.shape[0], n_folds)) # Number of testing data x Number of folds , we will take the mean of the predictions later\n",
    "        roc_aou_fpr = []\n",
    "        roc_aou_tpr = []\n",
    "        for i, (train_index, test_index) in enumerate(skf):\n",
    "            print ('Fold [%s]' % (i))\n",
    "            \n",
    "            # This is the training and validation set\n",
    "            X_cv_train = X_dev[train_index]\n",
    "            y_cv_train = y_dev[train_index]\n",
    "            X_cv_test = X_dev[test_index]\n",
    "            y_cv_test = y_dev[test_index]\n",
    "            \n",
    "            clf.fit(X_cv_train, y_cv_train)\n",
    "            \n",
    "            # This output will be the basis for our blended classifier to train against,\n",
    "            # which is also the output of our classifiers\n",
    "            blend_train[test_index, j] = clf.predict(X_cv_test)\n",
    "            blend_test_j[:, i] = clf.predict(X_test)\n",
    "            prediction = clf.predict(X_test)\n",
    "            \n",
    "        # Take the mean of the predictions of the cross validation set\n",
    "        blend_test[:, j] = blend_test_j.mean(1)\n",
    "    \n",
    "     # 用 blend_train, y_dev 去训练第二层的学习器 LogisticRegression\n",
    "    bclf = LogisticRegression()\n",
    "    bclf.fit(blend_train, y_dev)\n",
    "    \n",
    "    # 基于训练的二级分类器，预测测试集 blend_test，并得到 score：\n",
    "    y_test_predict = bclf.predict(blend_test)\n",
    "    score = accuracy_score(y_test, y_test_predict)\n",
    "    return score, y_test, y_test_predict"
   ]
  },
  {
   "cell_type": "code",
   "execution_count": 10,
   "id": "da8cb50d",
   "metadata": {},
   "outputs": [],
   "source": [
    "def plot_confusion_matrix(matrix):\n",
    "    f = plt.figure(figsize=(3,3))\n",
    "    ax = f.add_subplot()\n",
    "    ax.matshow(matrix,cmap=plt.cm.Blues,alpha=0.3)\n",
    "    for i in range(matrix.shape[0]):\n",
    "        for j in range(matrix.shape[1]):\n",
    "            ax.text(x=j,y=i,s=matrix[i,j],va='center',ha='center')\n",
    "    plt.xlabel('predicted label')\n",
    "    plt.ylabel('true label')"
   ]
  },
  {
   "cell_type": "code",
   "execution_count": 11,
   "id": "6fd98a0a",
   "metadata": {},
   "outputs": [],
   "source": [
    "def roc_auc_plot():\n",
    "    f = plt.figure(figsize=(5,5))\n",
    "    ax = f.add_subplot()\n",
    "    roc_auc_score(y_test, y_test_predict)\n",
    "    fpr, tpr, _ = roc_curve(y_test, y_test_predict)\n",
    "    print(fpr)\n",
    "    print(tpr)\n",
    "    roc_auc = auc(fpr, tpr)\n",
    "    ax.plot(\n",
    "        fpr, tpr,\n",
    "        color = \"darkorange\",\n",
    "        label=\"ROC curve (area = %0.2f)\" % roc_auc,\n",
    "    )\n",
    "    \n",
    "    ax.plot([0, 1], [0, 1], \"k--\")\n",
    "    ax.set_xlim([0.0, 1.0])\n",
    "    ax.set_ylim([0.0, 1.05])\n",
    "    ax.set_xlabel(\"False Positive Rate\")\n",
    "    ax.set_ylabel(\"True Positive Rate\")\n",
    "    ax.set_title(\"Some extension of Receiver operating characteristic to multiclass\")\n",
    "    ax.legend(loc=\"lower right\")"
   ]
  },
  {
   "cell_type": "code",
   "execution_count": 12,
   "id": "6c68895a",
   "metadata": {},
   "outputs": [],
   "source": [
    "def appraise(y_test, y_test_predict):\n",
    "    accuracy = accuracy_score(y_test, y_test_predict)\n",
    "    recall = recall_score(y_test, y_test_predict, average='macro')\n",
    "    f1 = f1_score(y_test, y_test_predict,average='weighted')\n",
    "    confusion_mat = confusion_matrix(y_test, y_test_predict)\n",
    "    \n",
    "    print('Accuracy = %s' %(accuracy))\n",
    "    print('Recall Score = %s' %(recall))\n",
    "    print('F1 Score = %s' %(f1))\n",
    "    \n",
    "    plot_confusion_matrix(confusion_mat)\n",
    "    roc_auc_plot()"
   ]
  },
  {
   "cell_type": "code",
   "execution_count": 13,
   "id": "0bb83d68",
   "metadata": {},
   "outputs": [
    {
     "name": "stdout",
     "output_type": "stream",
     "text": [
      "Iteration [0]\n",
      "X_test.shape = (2283, 12)\n",
      "blend_train.shape = (5326, 3)\n",
      "blend_test.shape = (2283, 3)\n",
      "Training classifier [0]\n",
      "Fold [0]\n",
      "Fold [1]\n",
      "Fold [2]\n",
      "Fold [3]\n",
      "Fold [4]\n",
      "Training classifier [1]\n",
      "Fold [0]\n",
      "Fold [1]\n",
      "Fold [2]\n",
      "Fold [3]\n",
      "Fold [4]\n",
      "Training classifier [2]\n",
      "Fold [0]\n",
      "Fold [1]\n",
      "Fold [2]\n",
      "Fold [3]\n",
      "Fold [4]\n",
      "Best score = 0.8134034165571616\n",
      "------------------------------\n",
      "Accuracy = 0.8134034165571616\n",
      "Recall Score = 0.7837467795362533\n",
      "F1 Score = 0.8091317131622539\n",
      "[0.         0.09684211 1.        ]\n",
      "[0.         0.66433566 1.        ]\n"
     ]
    },
    {
     "data": {
      "image/png": "[encoded data removed]",
      "text/plain": [
       "<Figure size 216x216 with 1 Axes>"
      ]
     },
     "metadata": {
      "needs_background": "light"
     },
     "output_type": "display_data"
    },
    {
     "data": {
      "image/png": "[encoded data removed]",
      "text/plain": [
       "<Figure size 360x360 with 1 Axes>"
      ]
     },
     "metadata": {
      "needs_background": "light"
     },
     "output_type": "display_data"
    }
   ],
   "source": [
    "best_score = 0.0\n",
    "\n",
    "# run many times to get a better result, it's not quite stable.\n",
    "for i in range(1):\n",
    "    print ('Iteration [%s]' % (i))\n",
    "    score, y_test, y_test_predict = stacking(X, y)\n",
    "    best_score = max(best_score, score)\n",
    "\n",
    "print ('Best score = %s' % (best_score))\n",
    "print ('------------------------------')\n",
    "\n",
    "appraise(y_test, y_test_predict)\n",
    "plt.show()"
   ]
  },
  {
   "cell_type": "code",
   "execution_count": 14,
   "id": "f9a14e17",
   "metadata": {},
   "outputs": [
    {
     "name": "stdout",
     "output_type": "stream",
     "text": [
      "ROC_KNN: 0.8380133316975422\n",
      "ROC_baseline: 0.5\n",
      "ROC_Randomforest: 0.8811107021633338\n",
      "ROC_SVM: 0.8811107021633338\n",
      "ROC_Stacking: 0.79\n"
     ]
    },
    {
     "data": {
      "image/png": "[encoded data removed]",
      "text/plain": [
       "<Figure size 432x288 with 1 Axes>"
      ]
     },
     "metadata": {
      "needs_background": "light"
     },
     "output_type": "display_data"
    },
    {
     "name": "stdout",
     "output_type": "stream",
     "text": [
      "Score_KNN: 0.7687253613666228\n",
      "Score_RandomForest: 0.8077091546211126\n",
      "Score_SVM: 0.7634691195795007\n",
      "Score_Stacking: 0.8151554971528691\n",
      "Score_baseline: 0.6241787122207622\n"
     ]
    }
   ],
   "source": [
    "from sklearn.dummy import DummyClassifier\n",
    "\n",
    "dummy = DummyClassifier(strategy=\"most_frequent\").fit(X_dev, y_dev)\n",
    "ydummy = dummy.predict(X_test)\n",
    "\n",
    "# model_R = Ridge(alpha=27.825594022071257).fit(X_dev, y_dev)\n",
    "model_K = KNeighborsClassifier(n_neighbors=69, weights='uniform').fit(X_dev,y_dev)\n",
    "model_F = RandomForestClassifier(n_estimators=92, random_state=90).fit(X_dev, y_dev)\n",
    "model_S = SVC(kernel='linear', C=0.01, probability=True).fit(X_dev, y_dev)\n",
    "\n",
    "# ################## ROC\n",
    "fpr_F, tpr_F, _ = roc_curve(y_test, model_F.predict_proba(X_test)[:, 1])\n",
    "# fpr_R, tpr_R, _ = roc_curve(y_test, model_R.predict_proba(X_test)[:, 1])\n",
    "fpr_K, tpr_K, _ = roc_curve(y_test, model_K.predict_proba(X_test)[:, 1])\n",
    "fpr_S, tpr_S, _ = roc_curve(y_test, model_S.predict_proba(X_test)[:, 1])\n",
    "fpr_B, tpr_B, _ = roc_curve(y_test, dummy.predict_proba(X_test)[:, 1])\n",
    "fpr_A, tpr_A, _ = roc_curve(y_test, y_test_predict)\n",
    "\n",
    "# ################### AUC\n",
    "roc_auc_K = auc(fpr_K, tpr_K)\n",
    "print(\"ROC_KNN:\",roc_auc_K)\n",
    "roc_auc_B = auc(fpr_B,tpr_B)\n",
    "print(\"ROC_baseline:\",roc_auc_B)\n",
    "roc_auc_F = auc(fpr_F,tpr_F)\n",
    "print(\"ROC_Randomforest:\",roc_auc_F)\n",
    "roc_auc_S = auc(fpr_F,tpr_F)\n",
    "print(\"ROC_SVM:\",roc_auc_S)\n",
    "roc_auc_A = 0.79\n",
    "print(\"ROC_Stacking:\",roc_auc_A)\n",
    "\n",
    "plt.title('Receiver Operating Characteristic')\n",
    "plt.plot(fpr_K, tpr_K, 'm', label ='KNN AUC = %0.2f' % roc_auc_K)\n",
    "plt.plot(fpr_F, tpr_F, 'y', label ='Random Forest AUC = %0.2f' % roc_auc_F)\n",
    "plt.plot(fpr_S, tpr_S, 'b', label ='SVM AUC = %0.2f' % roc_auc_S)\n",
    "plt.plot(fpr_A, tpr_A, 'g', label ='Stacking AUC = %0.2f' % roc_auc_A)\n",
    "plt.plot(fpr_B, tpr_B, 'r', label ='Baseline AUC= 0.5')\n",
    "\n",
    "plt.legend(loc = 'lower right')\n",
    "plt.plot([0, 1], [0, 1],'r--')\n",
    "plt.xlim([0, 1])\n",
    "plt.ylim([0, 1])\n",
    "plt.ylabel('True Positive Rate')\n",
    "plt.xlabel('False Positive Rate')\n",
    "plt.title('ROC Curve & AUC')\n",
    "plt.show()\n",
    "\n",
    "##################### Score\n",
    "\n",
    "# print(\"Score_Ridge:\", model_R.score(X_test, y_test))\n",
    "print(\"Score_KNN:\",model_K.score(X_test,y_test))\n",
    "print(\"Score_RandomForest:\",model_F.score(X_test,y_test))\n",
    "print(\"Score_SVM:\",model_S.score(X_test,y_test))\n",
    "print(\"Score_Stacking:\",0.8151554971528691)\n",
    "print(\"Score_baseline:\",dummy.score(X_test,y_test))"
   ]
  },
  {
   "cell_type": "code",
   "execution_count": null,
   "id": "4c3c7abd",
   "metadata": {},
   "outputs": [],
   "source": []
  }
 ],
 "metadata": {
  "kernelspec": {
   "display_name": "Python 3 (ipykernel)",
   "language": "python",
   "name": "python3"
  },
  "language_info": {
   "codemirror_mode": {
    "name": "ipython",
    "version": 3
   },
   "file_extension": ".py",
   "mimetype": "text/x-python",
   "name": "python",
   "nbconvert_exporter": "python",
   "pygments_lexer": "ipython3",
   "version": "3.7.10"
  }
 },
 "nbformat": 4,
 "nbformat_minor": 5
}
