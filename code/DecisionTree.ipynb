{
 "cells": [
  {
   "cell_type": "code",
   "execution_count": 68,
   "id": "dd0083a6",
   "metadata": {},
   "outputs": [],
   "source": [
    "from sklearn.tree import DecisionTreeClassifier\n",
    "from sklearn.model_selection import cross_val_score\n",
    "import numpy as np\n",
    "import pandas as pd\n",
    "import matplotlib.pyplot as plt"
   ]
  },
  {
   "cell_type": "code",
   "execution_count": 69,
   "id": "3a6256c7",
   "metadata": {},
   "outputs": [],
   "source": [
    "data = pd.read_csv(\"dly532_processed.csv\")\n",
    "y = data[\"Rainy\"]\n",
    "X = data.drop([\"Rainy\",\"date\"], axis=1).values\n",
    "data_feature_name = data.columns[1:19]"
   ]
  },
  {
   "cell_type": "code",
   "execution_count": 70,
   "id": "fa2798d7",
   "metadata": {},
   "outputs": [
    {
     "data": {
      "text/plain": [
       "Index(['maxtp', 'mintp', 'igmin', 'gmin', 'cbl', 'wdsp', 'hm', 'ddhm', 'hg',\n",
       "       'sun', 'dos', 'g_rad', 'soil', 'pe', 'evap', 'smd_wd', 'smd_md',\n",
       "       'smd_pd'],\n",
       "      dtype='object')"
      ]
     },
     "execution_count": 70,
     "metadata": {},
     "output_type": "execute_result"
    }
   ],
   "source": [
    "data_feature_name"
   ]
  },
  {
   "cell_type": "code",
   "execution_count": 71,
   "id": "068dbe59",
   "metadata": {},
   "outputs": [
    {
     "name": "stdout",
     "output_type": "stream",
     "text": [
      "Accuracy = 0.8157447940830129\n"
     ]
    }
   ],
   "source": [
    "clf = tree.DecisionTreeClassifier(max_depth=7)\n",
    "score = cross_val_score(clf,X,y,cv=5,scoring='accuracy')\n",
    "print('Accuracy = %s' % (np.mean(score)))"
   ]
  },
  {
   "cell_type": "code",
   "execution_count": 72,
   "id": "d184b249",
   "metadata": {},
   "outputs": [
    {
     "data": {
      "image/png": "[encoded data removed]",
      "text/plain": [
       "<Figure size 432x288 with 1 Axes>"
      ]
     },
     "metadata": {
      "needs_background": "light"
     },
     "output_type": "display_data"
    }
   ],
   "source": [
    "clf.fit(X,y)\n",
    "y_importances = clf.feature_importances_\n",
    "x_importances = data_feature_name\n",
    "y_pos = np.arange(len(x_importances))\n",
    "plt.barh(y_pos,y_importances,align='center')\n",
    "plt.yticks(y_pos,x_importances)\n",
    "plt.xlabel('Importances')\n",
    "plt.xlim(0,1)\n",
    "plt.title('Feature Importances')\n",
    "plt.show()"
   ]
  },
  {
   "cell_type": "code",
   "execution_count": 65,
   "id": "647934c1",
   "metadata": {},
   "outputs": [],
   "source": [
    "y_tree=[]\n",
    "for i in range(len(y)):\n",
    "    y_tree.append(str(y[i]))"
   ]
  },
  {
   "cell_type": "code",
   "execution_count": 66,
   "id": "b15a24d3",
   "metadata": {},
   "outputs": [],
   "source": [
    "from sklearn.tree import export_graphviz"
   ]
  },
  {
   "cell_type": "code",
   "execution_count": 67,
   "id": "082093ab",
   "metadata": {},
   "outputs": [],
   "source": [
    "export_graphviz(clf,out_file='tree.dot',\n",
    "               feature_names = data_feature_name,\n",
    "               class_names = ['-1','1'],\n",
    "               rounded = True, proportion =False,\n",
    "               precision = 2, filled = True)"
   ]
  },
  {
   "cell_type": "code",
   "execution_count": null,
   "id": "14d652bb",
   "metadata": {},
   "outputs": [],
   "source": []
  }
 ],
 "metadata": {
  "kernelspec": {
   "display_name": "Python 3 (ipykernel)",
   "language": "python",
   "name": "python3"
  },
  "language_info": {
   "codemirror_mode": {
    "name": "ipython",
    "version": 3
   },
   "file_extension": ".py",
   "mimetype": "text/x-python",
   "name": "python",
   "nbconvert_exporter": "python",
   "pygments_lexer": "ipython3",
   "version": "3.7.10"
  }
 },
 "nbformat": 4,
 "nbformat_minor": 5
}
